{
 "cells": [
  {
   "cell_type": "code",
   "execution_count": 1,
   "metadata": {
    "pycharm": {
     "name": "#%%\n"
    }
   },
   "outputs": [],
   "source": [
    "from tensorflow.keras.models import Model\n",
    "from tensorflow.keras.layers import Dense, Flatten, Input, Average\n",
    "from tensorflow.keras.optimizers import Adam\n",
    "from tensorflow.keras.losses import SparseCategoricalCrossentropy as scc\n",
    "from tensorflow.keras.datasets import mnist\n",
    "from spectraltools import Spectral, spectral_pretrain"
   ]
  },
  {
   "cell_type": "markdown",
   "metadata": {
    "pycharm": {
     "name": "#%% md\n"
    }
   },
   "source": [
    "# Example of spectral pretrain\n",
    "\n",
    "In the following a branched functional model is created. Then the function `spectral_pretrain` will return a smaller model by training only the eigenvalues. The subnetwork that had the \"luckiest initialization\" is therefore spotted.  "
   ]
  },
  {
   "cell_type": "code",
   "execution_count": 2,
   "metadata": {
    "pycharm": {
     "name": "#%%\n"
    }
   },
   "outputs": [],
   "source": [
    "# Dataset and model creation\n",
    "(x_train, y_train), (x_test, y_test) = mnist.load_data()\n",
    "x_train = x_train / 255.\n",
    "x_test = x_test / 255.\n",
    "\n",
    "inputs = Input(shape=(28, 28,))\n",
    "x = Flatten()(inputs)\n",
    "y = Spectral(200, activation='relu', name='Spec1', use_bias=False)(x)\n",
    "y = Spectral(300, activation='relu', is_diag_start_trainable=True, use_bias=False, name='Spec2')(y)\n",
    "y = Spectral(300, activation='relu', name='Dense1')(y)\n",
    "\n",
    "x = Spectral(200, activation='relu', name='Spec3', use_bias=False)(x)\n",
    "x = Spectral(300, activation='relu', is_diag_start_trainable=True, use_bias=False, name='Spec4')(x)\n",
    "x = Spectral(300, activation='relu', name='Spec5')(x)\n",
    "\n",
    "z = Average()([x, y])\n",
    "outputs = Dense(10, activation=\"softmax\")(z)\n",
    "\n",
    "model = Model(inputs=inputs, outputs=outputs, name=\"branched\")\n",
    "model.compile(optimizer=Adam(1E-3), loss=scc(from_logits=False), metrics=[\"accuracy\"])\n"
   ]
  },
  {
   "cell_type": "code",
   "execution_count": 5,
   "metadata": {
    "pycharm": {
     "name": "#%%\n"
    }
   },
   "outputs": [
    {
     "name": "stdout",
     "output_type": "stream",
     "text": [
      "34/34 [==============================] - 0s 2ms/step - loss: 0.3308 - accuracy: 0.9035\n",
      "34/34 [==============================] - 0s 2ms/step - loss: 0.3308 - accuracy: 0.9032\n",
      "0.00033209714996125864\n",
      "34/34 [==============================] - 0s 2ms/step - loss: 0.3309 - accuracy: 0.9033\n",
      "0.00022139809997417242\n",
      "34/34 [==============================] - 0s 2ms/step - loss: 0.3317 - accuracy: 0.9030\n",
      "0.0005534292791070717\n",
      "34/34 [==============================] - 0s 2ms/step - loss: 0.3341 - accuracy: 0.9027\n",
      "0.0008854604582399708\n",
      "34/34 [==============================] - 0s 2ms/step - loss: 0.3453 - accuracy: 0.8978\n",
      "0.006308790316010163\n",
      "34/34 [==============================] - 0s 2ms/step - loss: 0.3569 - accuracy: 0.8950\n",
      "0.009407901919850062\n",
      "34/34 [==============================] - 0s 2ms/step - loss: 0.3766 - accuracy: 0.8892\n",
      "0.01582739128584731\n",
      "34/34 [==============================] - 0s 2ms/step - loss: 0.4029 - accuracy: 0.8789\n",
      "0.027227480280494768\n",
      "34/34 [==============================] - 0s 2ms/step - loss: 0.4424 - accuracy: 0.8667\n",
      "0.040730521370755064\n",
      "34/34 [==============================] - 0s 2ms/step - loss: 0.5592 - accuracy: 0.8251\n",
      "0.08677367354929323\n",
      "34/34 [==============================] - 0s 2ms/step - loss: 0.6832 - accuracy: 0.7908\n",
      "0.12473718046616966\n",
      "Model: \"branched\"\n",
      "__________________________________________________________________________________________________\n",
      "Layer (type)                    Output Shape         Param #     Connected to                     \n",
      "==================================================================================================\n",
      "input_1 (InputLayer)            [(None, 28, 28)]     0                                            \n",
      "__________________________________________________________________________________________________\n",
      "flatten (Flatten)               (None, 784)          0           input_1[0][0]                    \n",
      "__________________________________________________________________________________________________\n",
      "Spec3 (Spectral)                (None, 80)           63584       flatten[0][0]                    \n",
      "__________________________________________________________________________________________________\n",
      "Spec1 (Spectral)                (None, 81)           64369       flatten[0][0]                    \n",
      "__________________________________________________________________________________________________\n",
      "Spec4 (Spectral)                (None, 127)          10367       Spec3[0][0]                      \n",
      "__________________________________________________________________________________________________\n",
      "Spec2 (Spectral)                (None, 107)          8855        Spec1[0][0]                      \n",
      "__________________________________________________________________________________________________\n",
      "Spec5 (Spectral)                (None, 300)          38527       Spec4[0][0]                      \n",
      "__________________________________________________________________________________________________\n",
      "Dense1 (Spectral)               (None, 300)          32507       Spec2[0][0]                      \n",
      "__________________________________________________________________________________________________\n",
      "average (Average)               (None, 300)          0           Spec5[0][0]                      \n",
      "                                                                 Dense1[0][0]                     \n",
      "__________________________________________________________________________________________________\n",
      "dense (Dense)                   (None, 10)           3010        average[0][0]                    \n",
      "==================================================================================================\n",
      "Total params: 221,219\n",
      "Trainable params: 4,005\n",
      "Non-trainable params: 217,214\n",
      "__________________________________________________________________________________________________\n"
     ]
    }
   ],
   "source": [
    "# Now the 30% of the spectral layers node will be pruned according to their relevance\n",
    "fit_dict = dict(x=x_train, y=y_train, batch_size=300, epochs=10, verbose=0)\n",
    "eval_dict = dict(x=x_test, y=y_test, batch_size=300)\n",
    "pruned = spectral_pretrain(model, \n",
    "                           fit_dictionary=fit_dict,\n",
    "                           eval_dictionary=eval_dict,\n",
    "                           max_delta=10,\n",
    "                           compare_with='acc')\n",
    "pruned.summary()"
   ]
  }
 ],
 "metadata": {
  "kernelspec": {
   "display_name": "Python 3 (ipykernel)",
   "language": "python",
   "name": "python3"
  },
  "language_info": {
   "codemirror_mode": {
    "name": "ipython",
    "version": 3
   },
   "file_extension": ".py",
   "mimetype": "text/x-python",
   "name": "python",
   "nbconvert_exporter": "python",
   "pygments_lexer": "ipython3",
   "version": "3.7.9"
  }
 },
 "nbformat": 4,
 "nbformat_minor": 1
}