{
 "cells": [
  {
   "cell_type": "code",
   "execution_count": 9,
   "metadata": {},
   "outputs": [],
   "source": [
    "from tensorflow.keras.models import Model\n",
    "from tensorflow.keras.layers import Dense, Flatten, Input, Average\n",
    "from tensorflow.keras.optimizers import Adam\n",
    "from tensorflow.keras.losses import SparseCategoricalCrossentropy as scc\n",
    "from tensorflow.keras.datasets import mnist\n",
    "from spectraltools import Spectral, spectral_pruning"
   ]
  },
  {
   "cell_type": "markdown",
   "metadata": {},
   "source": [
    "# Example of spectral pruning\n",
    "\n",
    "In the following a branched functional model is created. Then the function `spectral_pruning` will return a pruned model."
   ]
  },
  {
   "cell_type": "code",
   "execution_count": 3,
   "metadata": {},
   "outputs": [
    {
     "name": "stdout",
     "output_type": "stream",
     "text": [
      "34/34 [==============================] - 0s 2ms/step - loss: 0.4136 - accuracy: 0.8771\n"
     ]
    },
    {
     "data": {
      "text/plain": [
       "[0.41358765959739685, 0.8770999908447266]"
      ]
     },
     "execution_count": 3,
     "metadata": {},
     "output_type": "execute_result"
    }
   ],
   "source": [
    "# Dataset and model creation\n",
    "(x_train, y_train), (x_test, y_test) = mnist.load_data()\n",
    "x_train = x_train / 255.\n",
    "x_test = x_test / 255.\n",
    "\n",
    "inputs = Input(shape=(28, 28,))\n",
    "x = Flatten()(inputs)\n",
    "y = Spectral(200, activation='relu', name='Spec1', use_bias=False)(x)\n",
    "y = Spectral(300, activation='relu', is_diag_start_trainable=True, use_bias=False, name='Spec2')(y)\n",
    "y = Spectral(300, activation='relu', name='Dense1')(y)\n",
    "\n",
    "x = Spectral(200, activation='relu', name='Spec3', use_bias=False)(x)\n",
    "x = Spectral(300, activation='relu', is_diag_start_trainable=True, use_bias=False, name='Spec4')(x)\n",
    "x = Spectral(300, activation='relu', name='Spec5')(x)\n",
    "\n",
    "z = Average()([x, y])\n",
    "outputs = Dense(10, activation=\"softmax\")(z)\n",
    "\n",
    "model = Model(inputs=inputs, outputs=outputs, name=\"branched\")\n",
    "\n",
    "model.compile(optimizer=Adam(1E-3), loss=scc(from_logits=False), metrics=[\"accuracy\"])\n",
    "model.fit(x_train, y_train, validation_split=0.2, batch_size=300, epochs=1, verbose=0)\n",
    "model.evaluate(x_test, y_test, batch_size=300)"
   ]
  },
  {
   "cell_type": "code",
   "execution_count": 6,
   "metadata": {
    "pycharm": {
     "name": "#%%\n"
    }
   },
   "outputs": [
    {
     "name": "stdout",
     "output_type": "stream",
     "text": [
      "34/34 [==============================] - 0s 7ms/step - loss: 0.4633 - accuracy: 0.8644\n",
      "Model: \"branched\"\n",
      "__________________________________________________________________________________________________\n",
      "Layer (type)                    Output Shape         Param #     Connected to                     \n",
      "==================================================================================================\n",
      "input_1 (InputLayer)            [(None, 28, 28)]     0                                            \n",
      "__________________________________________________________________________________________________\n",
      "flatten (Flatten)               (None, 784)          0           input_1[0][0]                    \n",
      "__________________________________________________________________________________________________\n",
      "Spec3 (Spectral)                (None, 143)          113039      flatten[0][0]                    \n",
      "__________________________________________________________________________________________________\n",
      "Spec1 (Spectral)                (None, 146)          115394      flatten[0][0]                    \n",
      "__________________________________________________________________________________________________\n",
      "Spec4 (Spectral)                (None, 284)          41039       Spec3[0][0]                      \n",
      "__________________________________________________________________________________________________\n",
      "Spec2 (Spectral)                (None, 282)          41600       Spec1[0][0]                      \n",
      "__________________________________________________________________________________________________\n",
      "Spec5 (Spectral)                (None, 300)          85784       Spec4[0][0]                      \n",
      "__________________________________________________________________________________________________\n",
      "Dense1 (Spectral)               (None, 300)          85182       Spec2[0][0]                      \n",
      "__________________________________________________________________________________________________\n",
      "average (Average)               (None, 300)          0           Spec5[0][0]                      \n",
      "                                                                 Dense1[0][0]                     \n",
      "__________________________________________________________________________________________________\n",
      "dense (Dense)                   (None, 10)           3010        average[0][0]                    \n",
      "==================================================================================================\n",
      "Total params: 485,048\n",
      "Trainable params: 482,914\n",
      "Non-trainable params: 2,134\n",
      "__________________________________________________________________________________________________\n"
     ]
    }
   ],
   "source": [
    "# Now the 30% of the spectral layers node will be pruned according to their relevance\n",
    "pruned = spectral_pruning(model, 30)\n",
    "pruned.evaluate(x_test, y_test, batch_size=300)\n",
    "pruned.summary()\n"
   ]
  }
 ],
 "metadata": {
  "kernelspec": {
   "display_name": "Python 3 (ipykernel)",
   "language": "python",
   "name": "python3"
  },
  "language_info": {
   "codemirror_mode": {
    "name": "ipython",
    "version": 3
   },
   "file_extension": ".py",
   "mimetype": "text/x-python",
   "name": "python",
   "nbconvert_exporter": "python",
   "pygments_lexer": "ipython3",
   "version": "3.7.9"
  }
 },
 "nbformat": 4,
 "nbformat_minor": 1
}
