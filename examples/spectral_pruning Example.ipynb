{
 "cells": [
  {
   "cell_type": "code",
   "execution_count": 1,
   "metadata": {
    "pycharm": {
     "name": "#%%\n"
    },
    "ExecuteTime": {
     "end_time": "2023-10-07T15:59:17.640433100Z",
     "start_time": "2023-10-07T15:59:14.152425800Z"
    }
   },
   "outputs": [],
   "source": [
    "from tensorflow.keras.models import Model\n",
    "from tensorflow.keras.layers import Dense, Flatten, Input, Average\n",
    "from tensorflow.keras.optimizers import Adam\n",
    "from tensorflow.keras.losses import SparseCategoricalCrossentropy as scc\n",
    "from tensorflow.keras.datasets import mnist\n",
    "from tensorflow.keras.regularizers import l2\n",
    "from tensorflow.config import experimental\n",
    "physical_devices = experimental.list_physical_devices('GPU')\n",
    "for dev in physical_devices:\n",
    "    experimental.set_memory_growth(dev, True)\n",
    "    \n",
    "from spectraltools import Spectral\n"
   ]
  },
  {
   "cell_type": "markdown",
   "metadata": {
    "pycharm": {
     "name": "#%% md\n"
    }
   },
   "source": [
    "# Example of spectral training\n",
    "\n",
    "In the following a branched functional model is created using several Spectral Layers. An L2 regularization is also applied as we would like to prune the model later on. The model is trained for 10 epoch and then evaluated on the test set. "
   ]
  },
  {
   "cell_type": "code",
   "execution_count": 2,
   "metadata": {
    "pycharm": {
     "name": "#%%\n"
    },
    "ExecuteTime": {
     "end_time": "2023-10-07T15:59:21.203911800Z",
     "start_time": "2023-10-07T15:59:17.644435600Z"
    }
   },
   "outputs": [
    {
     "name": "stdout",
     "output_type": "stream",
     "text": [
      "160/160 [==============================] - 2s 7ms/step - loss: 2.9365 - accuracy: 0.8852 - val_loss: 2.3088 - val_accuracy: 0.9427\n",
      "34/34 [==============================] - 0s 4ms/step - loss: 2.3077 - accuracy: 0.9397\n"
     ]
    },
    {
     "data": {
      "text/plain": "[2.307720184326172, 0.9397000074386597]"
     },
     "execution_count": 2,
     "metadata": {},
     "output_type": "execute_result"
    }
   ],
   "source": [
    "# Dataset and model creation\n",
    "(x_train, y_train), (x_test, y_test) = mnist.load_data()\n",
    "x_train = x_train / 255.\n",
    "x_test = x_test / 255.\n",
    "\n",
    "spectral_configuration = {'activation': 'relu', \n",
    "                          'use_bias': True,\n",
    "                          'base_regularizer': l2(1E-3),\n",
    "                          'diag_regularizer': l2(5E-3)}\n",
    "\n",
    "inputs = Input(shape=(28, 28,))\n",
    "x = Flatten()(inputs)\n",
    "y = Spectral(200,  **spectral_configuration, name='Spec1')(x)\n",
    "y = Spectral(300,  **spectral_configuration, name='Spec2')(y)\n",
    "outputs = Dense(10, activation=\"softmax\", name='LastDense')(y)\n",
    "\n",
    "model = Model(inputs=inputs, outputs=outputs, name=\"branched\")\n",
    "\n",
    "compile_dict=dict(optimizer=Adam(1E-3), \n",
    "                  loss=scc(from_logits=False), \n",
    "                  metrics=[\"accuracy\"])\n",
    "\n",
    "model.compile(**compile_dict)\n",
    "model.fit(x_train, y_train, validation_split=0.2, batch_size=300, epochs=1, verbose=1)\n",
    "model.evaluate(x_test, y_test, batch_size=300)"
   ]
  },
  {
   "cell_type": "markdown",
   "source": [
    "# Example of spectral pruning\n",
    "Now that the model has been trained, we can prune it. In the following we will prune the 30% of the spectral layers nodes according to their relevance. The model is then evaluated on the test set."
   ],
   "metadata": {
    "collapsed": false
   }
  },
  {
   "cell_type": "code",
   "execution_count": 3,
   "outputs": [],
   "source": [
    "from spectraltools import prune_percentile, metric_based_pruning\n",
    "from spectraltools.spectralprune import original_model"
   ],
   "metadata": {
    "collapsed": false,
    "ExecuteTime": {
     "end_time": "2023-10-07T15:59:21.212918900Z",
     "start_time": "2023-10-07T15:59:21.177163100Z"
    }
   }
  },
  {
   "cell_type": "code",
   "execution_count": 4,
   "outputs": [
    {
     "name": "stdout",
     "output_type": "stream",
     "text": [
      "Number of nodes masked: 250 out of 500 (50.00%)\n",
      "34/34 [==============================] - 0s 4ms/step - loss: 3.1794 - accuracy: 0.6509\n",
      "Pruned accuracy: 0.651\n"
     ]
    }
   ],
   "source": [
    "# Now the 30% of the spectral layers node will be in place pruned according to their relevance. The eigenvalues whose magnitude is smaller than the corresponding percentile will be set to zero by masking the corresponding weights. This will also have an effect on the corresponding bias which will be also masked.\n",
    "pruned_model = prune_percentile(model, 50,\n",
    "                                compile_dictionary=compile_dict)\n",
    "print(f'Pruned accuracy: {pruned_model.evaluate(x_test, y_test, batch_size=300)[1]:.3f}')"
   ],
   "metadata": {
    "collapsed": false,
    "ExecuteTime": {
     "end_time": "2023-10-07T15:59:21.686015900Z",
     "start_time": "2023-10-07T15:59:21.191914300Z"
    }
   }
  },
  {
   "cell_type": "markdown",
   "source": [
    "As we can see masking 50% of the eigenvalues has basically no impact in the accuracy of the model. This is due to the fact that the pruned eigenvalues are very small and therefore their contribution to the model is negligible; making the whole feature not relevant.\n"
   ],
   "metadata": {
    "collapsed": false
   }
  },
  {
   "cell_type": "markdown",
   "source": [
    "# Example of metric based spectral pruning \n",
    "In the following code we will prune the model according to the metric based approach. In this case we will prune until a given drop in the accuracy is reached. In this case we will prune until the accuracy drops by 5%."
   ],
   "metadata": {
    "collapsed": false
   }
  },
  {
   "cell_type": "code",
   "execution_count": 5,
   "outputs": [
    {
     "name": "stdout",
     "output_type": "stream",
     "text": [
      "34/34 [==============================] - 0s 3ms/step - loss: 2.3077 - accuracy: 0.9397\n",
      "Baseline accuracy: 0.940\n",
      "Layer Spec1 has 140 active nodes\n",
      "Layer Spec2 has 110 active nodes\n",
      "300/300 [==============================] - 1s 3ms/step - loss: 2.3111 - accuracy: 0.9421\n",
      "Number of nodes masked: 0 out of 500 (0.00%)\n",
      "300/300 [==============================] - 1s 3ms/step - loss: 2.3111 - accuracy: 0.9421\n",
      "Pruning with 0% of eigenvalues removed. Delta in accuracy: 0.0000%\n",
      "Number of nodes masked: 25 out of 500 (5.00%)\n",
      "300/300 [==============================] - 1s 3ms/step - loss: 2.3380 - accuracy: 0.9411\n",
      "Pruning with 5% of eigenvalues removed. Delta in accuracy: 0.1026%\n",
      "Number of nodes masked: 50 out of 500 (10.00%)\n",
      "300/300 [==============================] - 1s 4ms/step - loss: 2.3605 - accuracy: 0.9398\n",
      "Pruning with 10% of eigenvalues removed. Delta in accuracy: 0.2388%\n",
      "Number of nodes masked: 75 out of 500 (15.00%)\n",
      "300/300 [==============================] - 1s 3ms/step - loss: 2.3886 - accuracy: 0.9344\n",
      "Pruning with 15% of eigenvalues removed. Delta in accuracy: 0.8174%\n",
      "Number of nodes masked: 100 out of 500 (20.00%)\n",
      "300/300 [==============================] - 1s 3ms/step - loss: 2.4335 - accuracy: 0.9265\n",
      "Pruning with 20% of eigenvalues removed. Delta in accuracy: 1.6489%\n",
      "Number of nodes masked: 125 out of 500 (25.00%)\n",
      "300/300 [==============================] - 1s 4ms/step - loss: 2.5113 - accuracy: 0.8995\n",
      "Pruning with 25% of eigenvalues removed. Delta in accuracy: 4.5237%\n",
      "Number of nodes masked: 100 out of 500 (20.00%)\n"
     ]
    }
   ],
   "source": [
    "import numpy as np\n",
    "\n",
    "print(f'Baseline accuracy: {model.evaluate(x_test, y_test, batch_size=300)[1]:.3f}')\n",
    "# Cycle through the spectral layers and count the number of active nodes\n",
    "\n",
    "for lay in pruned_model.layers:\n",
    "    if hasattr(lay, 'diag_end_mask'):\n",
    "        print(f'Layer {lay.name} has {np.count_nonzero(lay.diag_end_mask)} active nodes')\n",
    "    \n",
    "pruned_model = metric_based_pruning(model, \n",
    "                     eval_dictionary=dict(x=x_train, y=y_train, batch_size=200),\n",
    "                     compile_dictionary=compile_dict,\n",
    "                     compare_metric='accuracy',\n",
    "                     max_delta_percent=3)"
   ],
   "metadata": {
    "collapsed": false,
    "ExecuteTime": {
     "end_time": "2023-10-07T15:59:32.320994900Z",
     "start_time": "2023-10-07T15:59:21.684016900Z"
    }
   }
  },
  {
   "cell_type": "code",
   "execution_count": 6,
   "outputs": [
    {
     "name": "stdout",
     "output_type": "stream",
     "text": [
      "34/34 [==============================] - 0s 5ms/step - loss: 2.4301 - accuracy: 0.9250\n",
      "Pruned accuracy: 0.925\n",
      "Layer Spec1 has 186 active nodes\n",
      "Layer Spec2 has 214 active nodes\n"
     ]
    }
   ],
   "source": [
    "import numpy as np\n",
    "print(f'Pruned accuracy: {pruned_model.evaluate(x_test, y_test, batch_size=300)[1]:.3f}')\n",
    "for lay in pruned_model.layers:\n",
    "    if hasattr(lay, 'diag_end_mask'):\n",
    "        print(f'Layer {lay.name} has {np.count_nonzero(lay.diag_end_mask)} active nodes')"
   ],
   "metadata": {
    "collapsed": false,
    "ExecuteTime": {
     "end_time": "2023-10-07T15:59:32.802095200Z",
     "start_time": "2023-10-07T15:59:32.323990900Z"
    }
   }
  }
 ],
 "metadata": {
  "kernelspec": {
   "display_name": "Python 3 (ipykernel)",
   "language": "python",
   "name": "python3"
  },
  "language_info": {
   "codemirror_mode": {
    "name": "ipython",
    "version": 3
   },
   "file_extension": ".py",
   "mimetype": "text/x-python",
   "name": "python",
   "nbconvert_exporter": "python",
   "pygments_lexer": "ipython3",
   "version": "3.7.9"
  }
 },
 "nbformat": 4,
 "nbformat_minor": 1
}
