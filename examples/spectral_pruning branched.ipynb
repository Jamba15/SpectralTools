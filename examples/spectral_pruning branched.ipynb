{
 "cells": [
  {
   "cell_type": "code",
   "execution_count": 15,
   "metadata": {},
   "outputs": [],
   "source": [
    "from tensorflow.keras.models import Model\n",
    "from tensorflow.keras.layers import Dense, Flatten, Input, Average\n",
    "from tensorflow.keras.optimizers import Adam\n",
    "from tensorflow.keras.losses import SparseCategoricalCrossentropy as scc\n",
    "from tensorflow.keras.datasets import mnist\n",
    "from spectraltools import Spectral, spectral_pruning"
   ]
  },
  {
   "cell_type": "code",
   "execution_count": 2,
   "metadata": {
    "pycharm": {
     "name": "#%%\n"
    }
   },
   "outputs": [],
   "source": [
    "## Creating the branched model"
   ]
  },
  {
   "cell_type": "code",
   "execution_count": 16,
   "metadata": {
    "pycharm": {
     "name": "#%%\n"
    }
   },
   "outputs": [],
   "source": [
    "(x_train, y_train), (x_test, y_test) = mnist.load_data()\n",
    "x_train = x_train / 255.\n",
    "x_test = x_test / 255.\n",
    "\n",
    "inputs = Input(shape=(28, 28,))\n",
    "x = Flatten()(inputs)\n",
    "y = Spectral(200, activation='relu', name='Spec1', use_bias=False)(x)\n",
    "y = Spectral(300, activation='relu', is_diag_start_trainable=True, use_bias=False, name='Spec2')(y)\n",
    "y = Spectral(300, activation='relu', name='Dense1')(y)\n",
    "\n",
    "x = Spectral(200, activation='relu', name='Spec3', use_bias=False)(x)\n",
    "x = Spectral(300, activation='relu', is_diag_start_trainable=True, use_bias=False, name='Spec4')(x)\n",
    "x = Spectral(300, activation='relu', name='Spec5')(x)\n",
    "\n",
    "z = Average()([x, y])\n",
    "outputs = Dense(10, activation=\"softmax\")(z)\n",
    "\n",
    "model = Model(inputs=inputs, outputs=outputs, name=\"branched\")\n",
    "\n",
    "model.compile(optimizer=Adam(1E-3), loss=scc(from_logits=False), metrics=[\"accuracy\"])"
   ]
  },
  {
   "cell_type": "code",
   "execution_count": 17,
   "metadata": {
    "pycharm": {
     "name": "#%%\n"
    }
   },
   "outputs": [
    {
     "name": "stdout",
     "output_type": "stream",
     "text": [
      "Model: \"branched\"\n",
      "__________________________________________________________________________________________________\n",
      "Layer (type)                    Output Shape         Param #     Connected to                     \n",
      "==================================================================================================\n",
      "input_5 (InputLayer)            [(None, 28, 28)]     0                                            \n",
      "__________________________________________________________________________________________________\n",
      "flatten_4 (Flatten)             (None, 784)          0           input_5[0][0]                    \n",
      "__________________________________________________________________________________________________\n",
      "Spec3 (Spectral)                (None, 200)          157784      flatten_4[0][0]                  \n",
      "__________________________________________________________________________________________________\n",
      "Spec1 (Spectral)                (None, 200)          157784      flatten_4[0][0]                  \n",
      "__________________________________________________________________________________________________\n",
      "Spec4 (Spectral)                (None, 300)          60500       Spec3[0][0]                      \n",
      "__________________________________________________________________________________________________\n",
      "Spec2 (Spectral)                (None, 300)          60500       Spec1[0][0]                      \n",
      "__________________________________________________________________________________________________\n",
      "Spec5 (Spectral)                (None, 300)          90600       Spec4[0][0]                      \n",
      "__________________________________________________________________________________________________\n",
      "Dense1 (Spectral)               (None, 300)          90600       Spec2[0][0]                      \n",
      "__________________________________________________________________________________________________\n",
      "average_4 (Average)             (None, 300)          0           Spec5[0][0]                      \n",
      "                                                                 Dense1[0][0]                     \n",
      "__________________________________________________________________________________________________\n",
      "dense_4 (Dense)                 (None, 10)           3010        average_4[0][0]                  \n",
      "==================================================================================================\n",
      "Total params: 620,778\n",
      "Trainable params: 618,610\n",
      "Non-trainable params: 2,168\n",
      "__________________________________________________________________________________________________\n",
      "34/34 [==============================] - 0s 2ms/step - loss: 0.4544 - accuracy: 0.8637\n"
     ]
    },
    {
     "data": {
      "text/plain": [
       "[0.45438194274902344, 0.8636999726295471]"
      ]
     },
     "execution_count": 17,
     "metadata": {},
     "output_type": "execute_result"
    }
   ],
   "source": [
    "model.summary()\n",
    "model.fit(x_train, y_train, validation_split=0.2, batch_size=300, epochs=1, verbose=0)\n",
    "model.evaluate(x_test, y_test, batch_size=300)"
   ]
  },
  {
   "cell_type": "code",
   "execution_count": 19,
   "metadata": {
    "pycharm": {
     "name": "#%%\n"
    }
   },
   "outputs": [
    {
     "name": "stdout",
     "output_type": "stream",
     "text": [
      "34/34 [==============================] - 0s 7ms/step - loss: 0.6737 - accuracy: 0.8045\n",
      "Model: \"branched\"\n",
      "__________________________________________________________________________________________________\n",
      "Layer (type)                    Output Shape         Param #     Connected to                     \n",
      "==================================================================================================\n",
      "input_5 (InputLayer)            [(None, 28, 28)]     0                                            \n",
      "__________________________________________________________________________________________________\n",
      "flatten_4 (Flatten)             (None, 784)          0           input_5[0][0]                    \n",
      "__________________________________________________________________________________________________\n",
      "Spec3 (Spectral)                (None, 72)           57304       flatten_4[0][0]                  \n",
      "__________________________________________________________________________________________________\n",
      "Spec1 (Spectral)                (None, 79)           62799       flatten_4[0][0]                  \n",
      "__________________________________________________________________________________________________\n",
      "Spec4 (Spectral)                (None, 300)          21972       Spec3[0][0]                      \n",
      "__________________________________________________________________________________________________\n",
      "Spec2 (Spectral)                (None, 300)          24079       Spec1[0][0]                      \n",
      "__________________________________________________________________________________________________\n",
      "Spec5 (Spectral)                (None, 300)          90600       Spec4[0][0]                      \n",
      "__________________________________________________________________________________________________\n",
      "Dense1 (Spectral)               (None, 300)          90600       Spec2[0][0]                      \n",
      "__________________________________________________________________________________________________\n",
      "average_4 (Average)             (None, 300)          0           Spec5[0][0]                      \n",
      "                                                                 Dense1[0][0]                     \n",
      "__________________________________________________________________________________________________\n",
      "dense_4 (Dense)                 (None, 10)           3010        average_4[0][0]                  \n",
      "==================================================================================================\n",
      "Total params: 350,364\n",
      "Trainable params: 348,196\n",
      "Non-trainable params: 2,168\n",
      "__________________________________________________________________________________________________\n"
     ]
    }
   ],
   "source": [
    "new = spectral_pruning(model, 80)\n",
    "new.evaluate(x_test, y_test, batch_size=300)\n",
    "new.summary()\n"
   ]
  },
  {
   "cell_type": "code",
   "execution_count": null,
   "metadata": {},
   "outputs": [],
   "source": []
  }
 ],
 "metadata": {
  "kernelspec": {
   "display_name": "Python 3 (ipykernel)",
   "language": "python",
   "name": "python3"
  },
  "language_info": {
   "codemirror_mode": {
    "name": "ipython",
    "version": 3
   },
   "file_extension": ".py",
   "mimetype": "text/x-python",
   "name": "python",
   "nbconvert_exporter": "python",
   "pygments_lexer": "ipython3",
   "version": "3.7.9"
  }
 },
 "nbformat": 4,
 "nbformat_minor": 1
}
